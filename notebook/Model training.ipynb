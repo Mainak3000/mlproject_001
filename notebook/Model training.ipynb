{
 "cells": [
  {
   "cell_type": "markdown",
   "id": "85f71fd5",
   "metadata": {},
   "source": [
    "## Code \n",
    " 1. ex\n",
    " 2. esd"
   ]
  },
  {
   "cell_type": "markdown",
   "id": "a91def6b",
   "metadata": {},
   "source": []
  }
 ],
 "metadata": {
  "kernelspec": {
   "display_name": "Python 3",
   "language": "python",
   "name": "python3"
  },
  "language_info": {
   "codemirror_mode": {
    "name": "ipython",
    "version": 3
   },
   "file_extension": ".py",
   "mimetype": "text/x-python",
   "name": "python",
   "nbconvert_exporter": "python",
   "pygments_lexer": "ipython3",
   "version": "3.9.18"
  }
 },
 "nbformat": 4,
 "nbformat_minor": 5
}
